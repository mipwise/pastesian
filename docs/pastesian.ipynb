{
 "cells": [
  {
   "cell_type": "markdown",
   "metadata": {},
   "source": [
    "# Pastesian Formulation\n",
    "The statement of the basic use case is on Mip Wise's website: \n",
    "[mipwise.com/use-cases/pastesian](https://www.mipwise.com/use-cases/pastesian). This formulation considers an adapted version, as it will be described below."
   ]
  },
  {
   "cell_type": "markdown",
   "metadata": {},
   "source": [
    "## Formulation"
   ]
  },
  {
   "cell_type": "markdown",
   "metadata": {},
   "source": [
    "### Decision Variables\n",
    "The image below illustrates the flow of lasagnas through\n",
    "time.\n",
    "\n",
    "![Pastesian Flow](pastesian_flow.png)\n",
    "\n",
    "In particular, this chart suggests that the decision variables we need to define are the amounts to be produced\n",
    "in each month, and the amounts of inventory to carry over from one month to the next:\n",
    "- $x_1$\t- Number of lasagnas to be produced in month 1.\n",
    "- $x_2$\t- Number of lasagnas to be produced in month 2.\n",
    "- $x_3$\t- Number of lasagnas to be produced in month 3.\n",
    "- $x_4$\t- Number of lasagnas to be produced in month 4.\n",
    "- $s_1$\t- Number of lasagnas stored from month 1 to month 2.\n",
    "- $s_2$\t- Number of lasagnas stored from month 2 to month 3.\n",
    "- $s_3$\t- Number of lasagnas stored from month 3 to month 4.\n",
    "- $s_4$\t- Number of lasagnas stored from month 4 to the next horizon.\n",
    "\n",
    "Note that while the website's statement requires no lasagna to be left at the end of the 4th month, we're allowing the planners to storage lasagnas from the current planning horizon (the four months) to the next by defining the $s_4$ variable. If this is not desirable, we may just set $s_4 = 0$ in the mathematical model. In addition, we considered that storing one lasagna from the 4th month to the next horizon costs \\$ 2.00."
   ]
  },
  {
   "cell_type": "markdown",
   "metadata": {},
   "source": [
    "### Parameters\n",
    "\n",
    "In fact, to be a bit more general, let's consider two parameters to model initial and final amount of lasagnas:\n",
    "\n",
    "- $L_{start}$: amount of lasagnas at the beginning of the current horizon's first month, currently $50$.\n",
    "- $L_{end}$: amount of lasagnas to be stored from the current horizon's last month to the next horizon.\n",
    "\n",
    "\n"
   ]
  },
  {
   "cell_type": "markdown",
   "metadata": {},
   "source": [
    "### Constraints\n",
    "* Flow balance constraint for month 1:\n",
    "$$L_{start} + x_1 = 200 + s_1.$$\n",
    "\n",
    "* Flow balance constraint for month 2:\n",
    "$$s_1 + x_2 = 350 + s_2.$$\n",
    "\n",
    "* Flow balance constraint for month 3:\n",
    "$$s_2 + x_3 = 150 + s_3.$$\n",
    "\n",
    "* Flow balance constraint for month 4:\n",
    "$$s_3 + x_4 = 250 + s_{4}$$\n",
    "\n",
    "* Lasagnas left to the next horizon:\n",
    "$$ s_{4} = L_{end} $$"
   ]
  },
  {
   "cell_type": "markdown",
   "metadata": {},
   "source": [
    "### Objective\n",
    "The objective is to minimize the total production and inventory cost.\n",
    "$$\\min{5.50 x_1 + 7.20 x_2 + 8.80 x_3 + 10.90 x_4 + 1.30 s_1 + 1.95 s_2 + 2.20 s_3 + 2.00 s_4}.$$"
   ]
  },
  {
   "cell_type": "markdown",
   "metadata": {},
   "source": [
    "### Final formulation\n",
    "$$\n",
    "\\begin{eqnarray}\n",
    "\\begin{array}{rcl}\n",
    "& \\min & 5.50 x_1 + 7.20 x_2 + 8.80 x_3 + 10.90 x_4 + 1.30 s_1 + 1.95 s_2 + 2.20 s_3 + 2.00 s_4\\\\\n",
    "& \\text{s.t.}& L_{start} + x_1 = 200 + s_1,\\\\\n",
    "&& s_1 + x_2 = 350 + s_2,\\\\\n",
    "&& s_2 + x_3 = 150 + s_3,\\\\\n",
    "&& s_3 + x_4 = 250 + s_4,\\\\\n",
    "&& s_4 = L_{end},\\\\\n",
    "&& x_1, x_2, x_3, x_4, s_1, s_2, s_3, s_4 \\geq 0.\n",
    "\\end{array}\n",
    "\\end{eqnarray}\n",
    "$$"
   ]
  },
  {
   "cell_type": "markdown",
   "metadata": {},
   "source": [
    "## Additional complexities\n",
    "\n",
    "We may also consider production and inventory capacities throughout each month. We'll do that by adding two new parameters.\n",
    "\n",
    "### New parameters\n",
    "\n",
    "- $pc$: production capacity, that is, the maximum amount of lasagna that Pastesian can produce monthly, which is currently $400$.\n",
    "- $sc$: storage capacity, that is, the maximum amount of lasagna that Pastesian can storage from one month to the next, currently $200$.\n",
    "\n",
    "### New constraints\n",
    "* Storage capacity:\n",
    "$$\n",
    "s_t \\leq sc, \\quad t=1, 2, 3, 4.\n",
    "$$\n",
    "* Production capacity:\n",
    "$$\n",
    "x_t \\leq pc, \\quad t=1, 2, 3, 4.\n",
    "$$\n"
   ]
  }
 ],
 "metadata": {
  "kernelspec": {
   "display_name": "Python 3 (ipykernel)",
   "language": "python",
   "name": "python3"
  },
  "language_info": {
   "codemirror_mode": {
    "name": "ipython",
    "version": 3
   },
   "file_extension": ".py",
   "mimetype": "text/x-python",
   "name": "python",
   "nbconvert_exporter": "python",
   "pygments_lexer": "ipython3",
   "version": "3.9.7"
  }
 },
 "nbformat": 4,
 "nbformat_minor": 4
}
